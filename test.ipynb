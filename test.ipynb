{
 "cells": [
  {
   "cell_type": "code",
   "execution_count": null,
   "metadata": {},
   "outputs": [],
   "source": [
    "import tkinter\n",
    "tk=tkinter.Tk()\n",
    "def only_numeric_input(e):\n",
    "    #this is allowing all numeric input\n",
    "    if e.isdigit():\n",
    "        return True\n",
    "    #this will allow backspace to work\n",
    "    elif e==\"\":\n",
    "        return True\n",
    "    else:\n",
    "        return False\n",
    "#this will make the entry widget on root window\n",
    "e1=tkinter.Entry(tk)\n",
    "#arranging entry widget on screen\n",
    "e1.grid(row=0,column=0)\n",
    "c=tk.register(only_numeric_input)\n",
    "e1.configure(validate=\"key\",validatecommand=(c,'%P'))\n",
    "tk.mainloop()"
   ]
  },
  {
   "cell_type": "code",
   "execution_count": 2,
   "metadata": {},
   "outputs": [],
   "source": [
    "from tkinter import *\n",
    "root = Tk()\n",
    "\n",
    "# function to validate mark entry\n",
    "def validate(action, index, value_if_allowed,\n",
    "                       prior_value, text, validation_type, trigger_type, widget_name):\n",
    "        if value_if_allowed:\n",
    "            try:\n",
    "                float(value_if_allowed)\n",
    "                return True\n",
    "            except ValueError:\n",
    "                return False\n",
    "        else:\n",
    "            return False\n",
    "vcmd = (root.register(validate),\n",
    "                '%d', '%i', '%P', '%s', '%S', '%v', '%V', '%W')\n",
    " \n",
    "#text box to enter marks\n",
    "e=Entry(root,validate=\"key\", validatecommand=vcmd)\n",
    "e.pack()\n",
    "e.focus()\n",
    "root.mainloop()"
   ]
  }
 ],
 "metadata": {
  "kernelspec": {
   "display_name": "Python 3.8.1 64-bit",
   "language": "python",
   "name": "python3"
  },
  "language_info": {
   "codemirror_mode": {
    "name": "ipython",
    "version": 3
   },
   "file_extension": ".py",
   "mimetype": "text/x-python",
   "name": "python",
   "nbconvert_exporter": "python",
   "pygments_lexer": "ipython3",
   "version": "3.8.1"
  },
  "orig_nbformat": 4,
  "vscode": {
   "interpreter": {
    "hash": "4304d44423256e805b806e1a4066f14186f10df7895de49bc6387405b26cc181"
   }
  }
 },
 "nbformat": 4,
 "nbformat_minor": 2
}
